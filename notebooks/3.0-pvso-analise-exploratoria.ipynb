{
 "cells": [
  {
   "cell_type": "code",
   "id": "initial_id",
   "metadata": {
    "collapsed": true
   },
   "source": [
    "# Importação\n",
    "\n",
    "import numpy as np\n",
    "import pandas as pd\n",
    "import matplotlib.pyplot as plt\n",
    "import seaborn as sns\n",
    "import plotly.express as px\n",
    "import pycountry"
   ],
   "outputs": [],
   "execution_count": null
  },
  {
   "metadata": {},
   "cell_type": "code",
   "source": [
    "# lendo a base de dados\n",
    "\n",
    "df = pd.read_csv('../data/processed/salarios.csv')"
   ],
   "id": "ce7fffeef2d97b03",
   "outputs": [],
   "execution_count": null
  },
  {
   "metadata": {},
   "cell_type": "code",
   "source": "df.head()",
   "id": "618efa059036a1b2",
   "outputs": [],
   "execution_count": null
  },
  {
   "metadata": {},
   "cell_type": "code",
   "source": "df.columns",
   "id": "9d841a254fa4b05a",
   "outputs": [],
   "execution_count": null
  },
  {
   "metadata": {},
   "cell_type": "code",
   "source": "df['residencia_iso3'].value_counts()",
   "id": "6977f585c299a106",
   "outputs": [],
   "execution_count": null
  },
  {
   "metadata": {},
   "cell_type": "code",
   "source": [
    "# Plotando com pandas a Distribuição do Nível de Experiência em um gráfico de barras\n",
    "\n",
    "ax = df['nivel_experiencia'].value_counts().plot(kind='bar', title='Distribuição do Nível de Experiência')\n",
    "\n",
    "for p in ax.patches:\n",
    "    ax.annotate(f'{p.get_height():.0f}',\n",
    "                (p.get_x() + p.get_width() / 2., p.get_height()),\n",
    "                ha='center', va='bottom')"
   ],
   "id": "7352d8192a8e8241",
   "outputs": [],
   "execution_count": null
  },
  {
   "metadata": {},
   "cell_type": "code",
   "source": [
    "# Plotando com seaborn o salário_dolar por Nível de Experiência em um gráfico de barras\n",
    "\n",
    "# sns.set(style=\"whitegrid\")\n",
    "ax = sns.barplot(data=df, x='nivel_experiencia', y='salario_dolar')\n",
    "ax.set_title('Distribuição do Salário médio em dolar por Nível de Experiência')\n",
    "\n",
    "for p in ax.patches:\n",
    "    ax.annotate(f'{p.get_height():.0f}',\n",
    "                (p.get_x() + p.get_width() / 2., p.get_height()),\n",
    "                ha='center', va='bottom')\n",
    "\n",
    "plt.show()"
   ],
   "id": "4e4f118571b68139",
   "outputs": [],
   "execution_count": null
  },
  {
   "metadata": {},
   "cell_type": "code",
   "source": [
    "# Personalizando o gráfico de barras do salário_dolar por Nível de Experiência\n",
    "\n",
    "plt.figure(figsize=(8,5))\n",
    "ax = sns.barplot(data=df, x='nivel_experiencia', y='salario_dolar')\n",
    "plt.title(\"Salário médio por senioridade\")\n",
    "plt.xlabel(\"Nível de Experiência\")\n",
    "plt.ylabel(\"Salário médio anual (USD)\")\n",
    "\n",
    "# explicitando as legendas dos dados\n",
    "for p in ax.patches:\n",
    "    ax.annotate(\n",
    "        f'{p.get_height():.0f}',\n",
    "        (p.get_x() + p.get_width() / 2., p.get_height()),\n",
    "        ha='center', va='bottom'\n",
    "    )\n",
    "\n",
    "plt.show()"
   ],
   "id": "67e8c7b17573e8df",
   "outputs": [],
   "execution_count": null
  },
  {
   "metadata": {},
   "cell_type": "code",
   "source": [
    "# agrupando a média do salario_dolar por nível_experiencia\n",
    "\n",
    "df.groupby('nivel_experiencia')['salario_dolar'].mean().sort_values(ascending=False)"
   ],
   "id": "1a1bad7cc7d02d22",
   "outputs": [],
   "execution_count": null
  },
  {
   "metadata": {},
   "cell_type": "code",
   "source": [
    "# Plotando o gráfico de barras do salário_dolar por Nível de Experiência ordenado por Nível de Experiência(média)\n",
    "\n",
    "nivel_ordenado = df.groupby('nivel_experiencia')['salario_dolar'].mean().sort_values(ascending=True).index\n",
    "\n",
    "plt.figure(figsize=(8,5))\n",
    "ax = sns.barplot(data=df, x='nivel_experiencia', y='salario_dolar', order=nivel_ordenado)\n",
    "plt.title(\"Salário médio por senioridade\")\n",
    "plt.xlabel(\"Senioridade\")\n",
    "plt.ylabel(\"Salário médio anual (USD)\")\n",
    "\n",
    "# explicitando as legendas dos dados\n",
    "for p in ax.patches:\n",
    "    ax.annotate(\n",
    "        f'{p.get_height():.0f}',\n",
    "        (p.get_x() + p.get_width() / 2., p.get_height()),\n",
    "        ha='center', va='bottom'\n",
    "    )\n",
    "\n",
    "plt.show()"
   ],
   "id": "6bb74386098fc803",
   "outputs": [],
   "execution_count": null
  },
  {
   "metadata": {},
   "cell_type": "code",
   "source": [
    "plt.figure(figsize=(10,5))\n",
    "ax = sns.histplot(df['salario_dolar'], bins = 50, kde=True)\n",
    "plt.title(\"Distribuição dos salários anuais\")\n",
    "plt.xlabel(\"Salário em USD\")\n",
    "plt.ylabel(\"Frequência\")\n",
    "plt.show()"
   ],
   "id": "d1a4a865eae935f0",
   "outputs": [],
   "execution_count": null
  },
  {
   "metadata": {},
   "cell_type": "code",
   "source": [
    "plt.figure(figsize=(8,5))\n",
    "sns.boxplot(x=df['salario_dolar'])\n",
    "plt.title(\"Boxplot Salário\")\n",
    "plt.xlabel(\"Salário em USD\")\n",
    "plt.show()"
   ],
   "id": "88261d502ac999d0",
   "outputs": [],
   "execution_count": null
  },
  {
   "metadata": {},
   "cell_type": "code",
   "source": "df.columns",
   "id": "64a5a975cd7201fe",
   "outputs": [],
   "execution_count": null
  },
  {
   "metadata": {},
   "cell_type": "code",
   "source": [
    "ordem_senioridade = ['Junior', 'Pleno', 'Senior', 'Executivo']\n",
    "\n",
    "plt.figure(figsize=(8,5))\n",
    "sns.boxplot(x='nivel_experiencia', y='salario_dolar', data=df, order=ordem_senioridade)\n",
    "plt.title(\"Boxplot da distribuição do Salário em Dolar por Nível de Experiência\")\n",
    "plt.xlabel(\"Nível de Experiência\")\n",
    "plt.ylabel(\"Salário em Dolar\")\n",
    "plt.show()"
   ],
   "id": "22701355f6af5f21",
   "outputs": [],
   "execution_count": null
  },
  {
   "metadata": {},
   "cell_type": "code",
   "source": [
    "ordem_senioridade = ['Junior', 'Pleno', 'Senior', 'Executivo']\n",
    "\n",
    "plt.figure(figsize=(8,5))\n",
    "sns.boxplot(x='nivel_experiencia', y='salario_dolar', data=df, order=ordem_senioridade, palette='Set2', hue='nivel_experiencia')\n",
    "plt.title(\"Boxplot da distribuição do Salário em Dolar por Nível de Experiência\")\n",
    "plt.xlabel(\"Nível de Experiência\")\n",
    "plt.ylabel(\"Salário em Dolar\")\n",
    "plt.show()"
   ],
   "id": "bef5ef859409e9d1",
   "outputs": [],
   "execution_count": null
  },
  {
   "metadata": {},
   "cell_type": "code",
   "source": [
    "# gráfico de média salarial por senioridade em barras usando o plotly\n",
    "\n",
    "ax = df.groupby('nivel_experiencia')['salario_dolar'].mean().sort_values(ascending=False).reset_index()\n",
    "\n",
    "fig = px.bar(ax,\n",
    "             x='nivel_experiencia',\n",
    "             y='salario_dolar',\n",
    "             title='Média Salarial por Nível de Experiência',\n",
    "             labels={'nivel_experiencia': 'Nível de Senioridade', 'salario_dolar': 'Média Salarial Anual (USD)'})\n",
    "\n",
    "fig.show()"
   ],
   "id": "cfe0891d4f3afb0e",
   "outputs": [],
   "execution_count": null
  },
  {
   "metadata": {},
   "cell_type": "code",
   "source": [
    "remoto_contagem = df['regime_trabalho'].value_counts().reset_index()\n",
    "remoto_contagem.columns = ['tipo_trabalho', 'quantidade']\n",
    "\n",
    "fig = px.pie(remoto_contagem,\n",
    "             names='tipo_trabalho',\n",
    "             values='quantidade',\n",
    "             title='Proporção dos regimes de trabalho',\n",
    "          )\n",
    "\n",
    "fig.show()"
   ],
   "id": "9a73eaaf5e045a86",
   "outputs": [],
   "execution_count": null
  },
  {
   "metadata": {},
   "cell_type": "code",
   "source": [
    "remoto_contagem = df['regime_trabalho'].value_counts().reset_index()\n",
    "remoto_contagem.columns = ['tipo_trabalho', 'quantidade']\n",
    "\n",
    "fig = px.pie(remoto_contagem,\n",
    "             names='tipo_trabalho',\n",
    "             values='quantidade',\n",
    "             title='Proporção dos regimes de trabalho',\n",
    "             hole=0.5\n",
    "          )\n",
    "\n",
    "fig.show()"
   ],
   "id": "2274cdfa86cf7e5",
   "outputs": [],
   "execution_count": null
  },
  {
   "metadata": {},
   "cell_type": "code",
   "source": [
    "remoto_contagem = df['regime_trabalho'].value_counts().reset_index()\n",
    "remoto_contagem.columns = ['tipo_trabalho', 'quantidade']\n",
    "\n",
    "fig = px.pie(remoto_contagem,\n",
    "             names='tipo_trabalho',\n",
    "             values='quantidade',\n",
    "             title='Proporção dos tipos de trabalho',\n",
    "             hole=0.5\n",
    "          )\n",
    "fig.update_traces(textinfo='percent+label')\n",
    "fig.show()"
   ],
   "id": "c626b93f4a5707d3",
   "outputs": [],
   "execution_count": null
  },
  {
   "metadata": {},
   "cell_type": "code",
   "source": [
    "# Função para converter ISO-2 para ISO-3\n",
    "def iso2_to_iso3(code):\n",
    "    try:\n",
    "        return pycountry.countries.get(alpha_2=code).alpha_3\n",
    "    except:\n",
    "        return None\n",
    "\n",
    "# Criar nova coluna com código ISO-3\n",
    "df['residencia_iso3'] = df['residencia'].apply(iso2_to_iso3)\n",
    "\n",
    "# Calcular média salarial por país (ISO-3)\n",
    "df_ds = df[df['cargo'] == 'Data Scientist']\n",
    "media_ds_pais = df_ds.groupby('residencia_iso3')['salario_dolar'].mean().reset_index()\n",
    "\n",
    "# Gerar o mapa\n",
    "fig = px.choropleth(media_ds_pais,\n",
    "                    locations='residencia_iso3',\n",
    "                    color='salario_dolar',\n",
    "                    color_continuous_scale='rdylgn',\n",
    "                    title='Salário médio de Cientista de Dados por país',\n",
    "                    labels={'salario_dolar': 'Salário médio (USD)', 'residencia_iso3': 'País'})\n",
    "\n",
    "fig.show()"
   ],
   "id": "4ca57133cf020372",
   "outputs": [],
   "execution_count": null
  },
  {
   "metadata": {},
   "cell_type": "code",
   "source": "df.to_csv('../data/processed/salarios_final.csv', index=False)",
   "id": "2938fda1c941eb35",
   "outputs": [],
   "execution_count": null
  },
  {
   "metadata": {},
   "cell_type": "code",
   "source": "df[df['residencia'] == 'BR'].value_counts()",
   "id": "77724c572aea519c",
   "outputs": [],
   "execution_count": null
  }
 ],
 "metadata": {
  "kernelspec": {
   "display_name": "Python 3",
   "language": "python",
   "name": "python3"
  },
  "language_info": {
   "codemirror_mode": {
    "name": "ipython",
    "version": 2
   },
   "file_extension": ".py",
   "mimetype": "text/x-python",
   "name": "python",
   "nbconvert_exporter": "python",
   "pygments_lexer": "ipython2",
   "version": "2.7.6"
  }
 },
 "nbformat": 4,
 "nbformat_minor": 5
}
