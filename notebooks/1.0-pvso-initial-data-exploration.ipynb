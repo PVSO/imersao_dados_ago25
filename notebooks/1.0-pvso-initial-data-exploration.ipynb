{
 "cells": [
  {
   "metadata": {
    "collapsed": true
   },
   "cell_type": "code",
   "source": [
    "# Importação\n",
    "\n",
    "import numpy as np\n",
    "import pandas as pd\n",
    "import matplotlib.pyplot as plt\n",
    "import seaborn as sns"
   ],
   "id": "e09d1c4aeaed28ed",
   "outputs": [],
   "execution_count": null
  },
  {
   "metadata": {},
   "cell_type": "code",
   "source": [
    "# lendo a base de dados\n",
    "\n",
    "df = pd.read_csv('../data/external/salaries.csv')"
   ],
   "id": "37391192cd0ff0da",
   "outputs": [],
   "execution_count": null
  },
  {
   "metadata": {},
   "cell_type": "code",
   "source": [
    "# Mostrando alguns registros da base de dados\n",
    "\n",
    "df.head()"
   ],
   "id": "2c84f24b73ae51ad",
   "outputs": [],
   "execution_count": null
  },
  {
   "metadata": {},
   "cell_type": "code",
   "source": [
    "# Mostrando os tipos dos dados da base de dados\n",
    "\n",
    "df.info()"
   ],
   "id": "b9a62ba342e95828",
   "outputs": [],
   "execution_count": null
  },
  {
   "metadata": {},
   "cell_type": "code",
   "source": [
    "# Resumo estatístico dos dados númericos da base de dados\n",
    "\n",
    "df.describe()"
   ],
   "id": "6d545f25b1acaf7d",
   "outputs": [],
   "execution_count": null
  },
  {
   "metadata": {},
   "cell_type": "code",
   "source": [
    "# Mostrando o tamanho da base de dados (linhas e colunas)\n",
    "\n",
    "df.shape"
   ],
   "id": "69ecb80f676318d7",
   "outputs": [],
   "execution_count": null
  },
  {
   "metadata": {},
   "cell_type": "code",
   "source": [
    "# Mostrando de forma pythonica o tamanho da base de dados\n",
    "l, c = df.shape[0], df.shape[1]\n",
    "\n",
    "print('Tamanho da base de dados')\n",
    "print(f'Qtd linhas: {l}')\n",
    "print(f'Qtd colunas: {c}')"
   ],
   "id": "1a4c194cb47cbcee",
   "outputs": [],
   "execution_count": null
  },
  {
   "metadata": {},
   "cell_type": "code",
   "source": [
    "# Mostrando as colunas da base de dados\n",
    "\n",
    "df.columns"
   ],
   "id": "96542c19ed01739a",
   "outputs": [],
   "execution_count": null
  },
  {
   "metadata": {},
   "cell_type": "code",
   "source": [
    "# Verificando o tipo de dado de cada coluna\n",
    "\n",
    "df.dtypes"
   ],
   "id": "f1431bc67a61a157",
   "outputs": [],
   "execution_count": null
  },
  {
   "metadata": {},
   "cell_type": "code",
   "source": [
    "# Verificando se há registros nulos\n",
    "\n",
    "df.isnull().sum()"
   ],
   "id": "4be1223bd1cae1ef",
   "outputs": [],
   "execution_count": null
  },
  {
   "metadata": {},
   "cell_type": "code",
   "source": [
    "# Renomeando as colunas da base de dados, convertendo para pt-br\n",
    "\n",
    "colunas_renomeadas = {\n",
    "    'work_year': 'ano',\n",
    "    'experience_level': 'nivel_experiencia',\n",
    "    'employment_type': 'contrato', # Tipo de emprego\n",
    "    'job_title': 'cargo',\n",
    "    'salary': 'salario',\n",
    "    'salary_currency': 'moeda_salario',\n",
    "    'salary_in_usd': 'salario_dolar',\n",
    "    'employee_residence': 'residencia',\n",
    "    'remote_ratio': 'regime_trabalho',\n",
    "    'company_location': 'local_empresa',\n",
    "    'company_size': 'tamanho_empresa'\n",
    "}\n",
    "\n",
    "df.rename(columns=colunas_renomeadas, inplace=True)\n",
    "\n",
    "df.head()"
   ],
   "id": "214e4f6ba570379a",
   "outputs": [],
   "execution_count": null
  },
  {
   "metadata": {},
   "cell_type": "code",
   "source": [
    "# Calculando a frequência de ocorrência de cada valor único na coluna nivel_experiencia.\n",
    "\n",
    "df['nivel_experiencia'].value_counts()\n",
    "\n",
    "# SE - Senior\n",
    "# MI - Pleno\n",
    "# EN - Júnior\n",
    "# EX - Executivo (C-level)"
   ],
   "id": "12e142dae9d43c77",
   "outputs": [],
   "execution_count": null
  },
  {
   "metadata": {},
   "cell_type": "code",
   "source": [
    "# Calculando a frequência de ocorrência de cada valor único na coluna contrato\n",
    "\n",
    "df['contrato'].value_counts()\n",
    "\n",
    "# FT - Integral\n",
    "# CT - Temporário\n",
    "# PT - Parcial (Estágio)\n",
    "# FL - Freelancer"
   ],
   "id": "46a2bbe652504e26",
   "outputs": [],
   "execution_count": null
  },
  {
   "metadata": {},
   "cell_type": "code",
   "source": [
    "# Calculando a frequência de ocorrência de cada valor único na coluna regime_trabalho\n",
    "\n",
    "df['regime_trabalho'].value_counts()\n",
    "\n",
    "# 0   - presencial\n",
    "# 100 - 100% remoto\n",
    "# 50  - híbrido"
   ],
   "id": "1b41fc974b5f4871",
   "outputs": [],
   "execution_count": null
  },
  {
   "metadata": {},
   "cell_type": "code",
   "source": [
    "# Calculando a frequência de ocorrência de cada valor único na coluna\n",
    "\n",
    "df['tamanho_empresa'].value_counts()\n",
    "\n",
    "# M (Medium) - Tamanho Médio\n",
    "# L (Large)  - Tamanho Grande\n",
    "# S (Small)  - Tamanho Pequeno"
   ],
   "id": "a173849687d715be",
   "outputs": [],
   "execution_count": null
  },
  {
   "metadata": {},
   "cell_type": "code",
   "source": [
    "# Renomeando as categorias da coluna nivel_experiencia\n",
    "\n",
    "experiencia_renomear = {\n",
    "    'SE': 'Senior',\n",
    "    'MI': 'Pleno',\n",
    "    'EN': 'Junior',\n",
    "    'EX': 'Executivo',\n",
    "}\n",
    "\n",
    "df['nivel_experiencia'] = df['nivel_experiencia'].map(experiencia_renomear)\n",
    "\n",
    "df['nivel_experiencia'].value_counts()"
   ],
   "id": "f531f6005722ffea",
   "outputs": [],
   "execution_count": null
  },
  {
   "metadata": {},
   "cell_type": "code",
   "source": [
    "# Renomeando as categorias da coluna contrato\n",
    "\n",
    "contrato_renomear = {\n",
    "    'FT': 'Integral',\n",
    "    'CT': 'Temporario',\n",
    "    'PT': 'Parcial',\n",
    "    'FL': 'Freelancer',\n",
    "}\n",
    "\n",
    "df['contrato'] = df['contrato'].map(contrato_renomear)\n",
    "\n",
    "df['contrato'].value_counts()"
   ],
   "id": "a2998f949c05357a",
   "outputs": [],
   "execution_count": null
  },
  {
   "metadata": {},
   "cell_type": "code",
   "source": [
    "# Renomeando as categorias da coluna tamanho_empresa\n",
    "\n",
    "tamanho_empresa_renomear = {\n",
    "    'M': 'Médio',\n",
    "    'L': 'Grande',\n",
    "    'S': 'Pequeno',\n",
    "}\n",
    "\n",
    "df['tamanho_empresa'] = df['tamanho_empresa'].map(tamanho_empresa_renomear)\n",
    "\n",
    "df['tamanho_empresa'].value_counts()"
   ],
   "id": "72f249718b5c7f15",
   "outputs": [],
   "execution_count": null
  },
  {
   "metadata": {},
   "cell_type": "code",
   "source": [
    "# Renomeando as categorias da coluna remoto(%)\n",
    "\n",
    "regime_trabalho_renomear = {\n",
    "    0: 'presencial',\n",
    "    100: 'remoto',\n",
    "    50: 'híbrido',\n",
    "}\n",
    "\n",
    "df['regime_trabalho'] = df['regime_trabalho'].map(regime_trabalho_renomear)\n",
    "\n",
    "df['regime_trabalho'].value_counts()"
   ],
   "id": "28daa768affc5a6b",
   "outputs": [],
   "execution_count": null
  },
  {
   "metadata": {},
   "cell_type": "code",
   "source": [
    "# Resumo estatístico da base de dados com dados categoricos\n",
    "df.describe(include='object')\n",
    "\n",
    "# top exibe as informações mais frequentes em relação a coluna\n",
    "# freq exibe a quantidade que as informações mais frequentes está repetindo"
   ],
   "id": "8d8a438f9f4d7495",
   "outputs": [],
   "execution_count": null
  },
  {
   "metadata": {},
   "cell_type": "code",
   "source": "df.to_csv('../data/interim/salarios_tratado.csv')",
   "id": "4a000d9857af77df",
   "outputs": [],
   "execution_count": null
  }
 ],
 "metadata": {
  "kernelspec": {
   "display_name": "Python 3",
   "language": "python",
   "name": "python3"
  },
  "language_info": {
   "codemirror_mode": {
    "name": "ipython",
    "version": 2
   },
   "file_extension": ".py",
   "mimetype": "text/x-python",
   "name": "python",
   "nbconvert_exporter": "python",
   "pygments_lexer": "ipython2",
   "version": "2.7.6"
  }
 },
 "nbformat": 4,
 "nbformat_minor": 5
}
