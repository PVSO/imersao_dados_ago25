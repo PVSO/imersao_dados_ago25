{
 "cells": [
  {
   "cell_type": "code",
   "execution_count": null,
   "id": "e09d1c4aeaed28ed",
   "metadata": {
    "ExecuteTime": {
     "end_time": "2025-08-12T23:25:42.805843Z",
     "start_time": "2025-08-12T23:25:42.789387Z"
    },
    "collapsed": true
   },
   "outputs": [],
   "source": [
    "# Importação\n",
    "\n",
    "import numpy as np\n",
    "import pandas as pd\n",
    "import matplotlib.pyplot as plt\n",
    "import seaborn as sns"
   ]
  },
  {
   "cell_type": "code",
   "execution_count": null,
   "id": "37391192cd0ff0da",
   "metadata": {
    "ExecuteTime": {
     "end_time": "2025-08-11T15:31:35.853444Z",
     "start_time": "2025-08-11T15:31:34.795402Z"
    }
   },
   "outputs": [],
   "source": [
    "# lendo a base de dados\n",
    "\n",
    "df = pd.read_csv('../data/external/salaries.csv')"
   ]
  },
  {
   "cell_type": "code",
   "execution_count": null,
   "id": "2c84f24b73ae51ad",
   "metadata": {},
   "outputs": [],
   "source": [
    "# Mostrando alguns registros da base de dados\n",
    "\n",
    "df.head()"
   ]
  },
  {
   "cell_type": "code",
   "execution_count": null,
   "id": "b9a62ba342e95828",
   "metadata": {},
   "outputs": [],
   "source": [
    "# Mostrando os tipos dos dados da base de dados\n",
    "\n",
    "df.info()"
   ]
  },
  {
   "cell_type": "code",
   "execution_count": null,
   "id": "6d545f25b1acaf7d",
   "metadata": {},
   "outputs": [],
   "source": [
    "# Resumo estatístico dos dados númericos da base de dados\n",
    "\n",
    "df.describe()"
   ]
  },
  {
   "cell_type": "code",
   "execution_count": null,
   "id": "69ecb80f676318d7",
   "metadata": {},
   "outputs": [],
   "source": [
    "# Mostrando o tamanho da base de dados (linhas e colunas)\n",
    "\n",
    "df.shape"
   ]
  },
  {
   "cell_type": "code",
   "execution_count": null,
   "id": "1a4c194cb47cbcee",
   "metadata": {},
   "outputs": [],
   "source": [
    "# Mostrando de forma pythonica o tamanho da base de dados\n",
    "l, c = df.shape[0], df.shape[1]\n",
    "\n",
    "print('Tamanho da base de dados')\n",
    "print(f'Qtd linhas: {l}')\n",
    "print(f'Qtd colunas: {c}')"
   ]
  },
  {
   "cell_type": "code",
   "execution_count": null,
   "id": "96542c19ed01739a",
   "metadata": {
    "ExecuteTime": {
     "end_time": "2025-08-11T15:31:42.342132Z",
     "start_time": "2025-08-11T15:31:42.292923Z"
    }
   },
   "outputs": [],
   "source": [
    "# Mostrando as colunas da base de dados\n",
    "\n",
    "df.columns"
   ]
  },
  {
   "cell_type": "code",
   "execution_count": null,
   "id": "f1431bc67a61a157",
   "metadata": {},
   "outputs": [],
   "source": [
    "# Verificando o tipo de dado de cada coluna\n",
    "\n",
    "df.dtypes"
   ]
  },
  {
   "cell_type": "code",
   "execution_count": null,
   "id": "4be1223bd1cae1ef",
   "metadata": {},
   "outputs": [],
   "source": [
    "# Verificando se há registros nulos\n",
    "\n",
    "df.isnull().sum()"
   ]
  },
  {
   "cell_type": "code",
   "execution_count": null,
   "id": "8d8a438f9f4d7495",
   "metadata": {},
   "outputs": [],
   "source": [
    "# Resumo estatístico da base de dados com dados categoricos\n",
    "df.describe(include='object')\n",
    "\n",
    "# top exibe as informações mais frequentes em relação a coluna\n",
    "# freq exibe a quantidade que as informações mais frequentes está repetindo"
   ]
  }
 ],
 "metadata": {
  "kernelspec": {
   "display_name": "Python 3",
   "language": "python",
   "name": "python3"
  },
  "language_info": {
   "codemirror_mode": {
    "name": "ipython",
    "version": 2
   },
   "file_extension": ".py",
   "mimetype": "text/x-python",
   "name": "python",
   "nbconvert_exporter": "python",
   "pygments_lexer": "ipython2",
   "version": "2.7.6"
  }
 },
 "nbformat": 4,
 "nbformat_minor": 5
}
