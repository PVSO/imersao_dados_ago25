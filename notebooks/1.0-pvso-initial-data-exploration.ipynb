{
 "cells": [
  {
   "metadata": {
    "collapsed": true
   },
   "cell_type": "code",
   "source": [
    "# Importação\n",
    "\n",
    "import numpy as np\n",
    "import pandas as pd\n",
    "import matplotlib.pyplot as plt\n",
    "import seaborn as sns"
   ],
   "id": "e09d1c4aeaed28ed",
   "outputs": [],
   "execution_count": null
  },
  {
   "metadata": {},
   "cell_type": "code",
   "source": [
    "# lendo a base de dados\n",
    "\n",
    "df = pd.read_csv('../data/external/salaries.csv')"
   ],
   "id": "37391192cd0ff0da",
   "outputs": [],
   "execution_count": null
  },
  {
   "metadata": {},
   "cell_type": "code",
   "source": [
    "# Mostrando alguns registros da base de dados\n",
    "\n",
    "df.head()"
   ],
   "id": "2c84f24b73ae51ad",
   "outputs": [],
   "execution_count": null
  },
  {
   "metadata": {},
   "cell_type": "code",
   "source": [
    "# Mostrando os tipos dos dados da base de dados\n",
    "\n",
    "df.info()"
   ],
   "id": "b9a62ba342e95828",
   "outputs": [],
   "execution_count": null
  },
  {
   "metadata": {},
   "cell_type": "code",
   "source": [
    "# Resumo estatístico dos dados númericos da base de dados\n",
    "\n",
    "df.describe()"
   ],
   "id": "6d545f25b1acaf7d",
   "outputs": [],
   "execution_count": null
  },
  {
   "metadata": {},
   "cell_type": "code",
   "source": [
    "# Mostrando o tamanho da base de dados (linhas e colunas)\n",
    "\n",
    "df.shape"
   ],
   "id": "69ecb80f676318d7",
   "outputs": [],
   "execution_count": null
  },
  {
   "metadata": {},
   "cell_type": "code",
   "source": [
    "# Mostrando de forma pythonica o tamanho da base de dados\n",
    "l, c = df.shape[0], df.shape[1]\n",
    "\n",
    "print('Tamanho da base de dados')\n",
    "print(f'Qtd linhas: {l}')\n",
    "print(f'Qtd colunas: {c}')"
   ],
   "id": "1a4c194cb47cbcee",
   "outputs": [],
   "execution_count": null
  },
  {
   "metadata": {},
   "cell_type": "code",
   "source": [
    "# Mostrando as colunas da base de dados\n",
    "\n",
    "df.columns"
   ],
   "id": "96542c19ed01739a",
   "outputs": [],
   "execution_count": null
  },
  {
   "metadata": {},
   "cell_type": "code",
   "source": [
    "# Verificando o tipo de dado de cada coluna\n",
    "\n",
    "df.dtypes"
   ],
   "id": "f1431bc67a61a157",
   "outputs": [],
   "execution_count": null
  },
  {
   "metadata": {},
   "cell_type": "code",
   "source": [
    "# Verificando se há registros nulos\n",
    "\n",
    "df.isnull().sum()"
   ],
   "id": "4be1223bd1cae1ef",
   "outputs": [],
   "execution_count": null
  },
  {
   "metadata": {},
   "cell_type": "code",
   "source": [
    "# Resumo estatístico da base de dados com dados categoricos\n",
    "df.describe(include='object')\n",
    "\n",
    "# top exibe as informações mais frequentes em relação a coluna\n",
    "# freq exibe a quantidade que as informações mais frequentes está repetindo"
   ],
   "id": "8d8a438f9f4d7495",
   "outputs": [],
   "execution_count": null
  }
 ],
 "metadata": {
  "kernelspec": {
   "display_name": "Python 3",
   "language": "python",
   "name": "python3"
  },
  "language_info": {
   "codemirror_mode": {
    "name": "ipython",
    "version": 2
   },
   "file_extension": ".py",
   "mimetype": "text/x-python",
   "name": "python",
   "nbconvert_exporter": "python",
   "pygments_lexer": "ipython2",
   "version": "2.7.6"
  }
 },
 "nbformat": 4,
 "nbformat_minor": 5
}
