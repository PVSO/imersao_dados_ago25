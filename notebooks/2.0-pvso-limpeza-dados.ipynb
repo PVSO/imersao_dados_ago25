{
 "cells": [
  {
   "metadata": {
    "collapsed": true
   },
   "cell_type": "code",
   "source": [
    "# Importação\n",
    "\n",
    "import numpy as np\n",
    "import pandas as pd\n",
    "import matplotlib.pyplot as plt\n",
    "import seaborn as sns"
   ],
   "id": "e09d1c4aeaed28ed",
   "outputs": [],
   "execution_count": null
  },
  {
   "metadata": {},
   "cell_type": "code",
   "source": [
    "# lendo a base de dados\n",
    "\n",
    "df = pd.read_csv('../data/interim/salarios_tratado.csv')"
   ],
   "id": "37391192cd0ff0da",
   "outputs": [],
   "execution_count": null
  },
  {
   "metadata": {},
   "cell_type": "code",
   "source": [
    "# Verificando quantidade de registros nulos em cada campo\n",
    "\n",
    "df.isnull().sum()"
   ],
   "id": "468c26fd86019a7",
   "outputs": [],
   "execution_count": null
  },
  {
   "metadata": {},
   "cell_type": "code",
   "source": "df['ano'].unique()",
   "id": "a8f4ae190314d401",
   "outputs": [],
   "execution_count": null
  },
  {
   "metadata": {},
   "cell_type": "code",
   "source": "df[df.isnull().any(axis=1)]",
   "id": "9c73819cc286287",
   "outputs": [],
   "execution_count": null
  },
  {
   "metadata": {},
   "cell_type": "code",
   "source": [
    "# Exemplo Fictício\n",
    "# Criando um novo dataframe com registros nulos e preenchendo com média e mediana\n",
    "\n",
    "# Criando um novo DataFrame\n",
    "df_salario = pd.DataFrame({\n",
    "    'nome': ['Ana', 'Bruno', 'Carlos', 'Diana', 'Eduardo'],\n",
    "    'salario': [4000, np.nan, 3500, np.nan, 5000]\n",
    "})\n",
    "\n",
    "# preenchendo os registros nulos com a média arredondada\n",
    "df_salario['salario_media'] = df_salario['salario'].fillna(df_salario['salario'].mean().round(2))\n",
    "\n",
    "# preenchendo os registros nulos com a mediana\n",
    "df_salario['salario_mediana'] = df_salario['salario'].fillna(df_salario['salario'].median())\n",
    "\n",
    "# Mostrando o DataFrame\n",
    "df_salario"
   ],
   "id": "c506b281ad71d6e1",
   "outputs": [],
   "execution_count": null
  },
  {
   "metadata": {},
   "cell_type": "code",
   "source": [
    "# Exemplo Fictício\n",
    "# Criando um novo dataframe com registros nulos e preenchendo com valor anterior\n",
    "# atraves do forwardfill\n",
    "\n",
    "df_temperaturas = pd.DataFrame({\n",
    "    'dia': ['Seg', 'Ter', 'Qua', 'Qui', 'Sex'],\n",
    "    'temperatura': [30, np.nan, np.nan, 28, 27]\n",
    "})\n",
    "\n",
    "# No caso, preenche os registros nulos com o valor de 'seg'\n",
    "df_temperaturas['preenchido_ffill'] = df_temperaturas['temperatura'].ffill()\n",
    "\n",
    "df_temperaturas"
   ],
   "id": "ce2751cbef3c34ae",
   "outputs": [],
   "execution_count": null
  },
  {
   "metadata": {},
   "cell_type": "code",
   "source": [
    "# Exemplo Fictício\n",
    "# Criando um novo dataframe com registros nulos e preenchendo com valor anterior\n",
    "# atraves do backwardfill\n",
    "\n",
    "df_temperaturas = pd.DataFrame({\n",
    "    'dia': ['Seg', 'Ter', 'Qua', 'Qui', 'Sex'],\n",
    "    'temperatura': [30, np.nan, np.nan, 28, 27]\n",
    "})\n",
    "\n",
    "df_temperaturas['preenchido_bfill'] = df_temperaturas['temperatura'].bfill()\n",
    "\n",
    "df_temperaturas"
   ],
   "id": "de9bdac95d4c7e1d",
   "outputs": [],
   "execution_count": null
  },
  {
   "metadata": {},
   "cell_type": "code",
   "source": [
    "# Exemplo Fictício\n",
    "# Criando um novo dataframe com registros nulos e preenchendo os campos nulos\n",
    "# com valor fixo\n",
    "\n",
    "df_cidades = pd.DataFrame({\n",
    "    'nome': ['Ana', 'Bruno', 'Carlos', 'Diana', 'Eduardo'],\n",
    "    'cidade': ['São Paulo', np.nan, 'Curitiba', np.nan, 'Salvador']\n",
    "})\n",
    "\n",
    "df_cidades['cidade_corrigida'] = df_cidades['cidade'].fillna('Não informado')\n",
    "\n",
    "df_cidades"
   ],
   "id": "278ae3a6fcc90d33",
   "outputs": [],
   "execution_count": null
  },
  {
   "metadata": {},
   "cell_type": "code",
   "source": [
    "# É importante analizar o impacto do tamanho dos registros nulos na base de dados\n",
    "# como são apenas 10 registros com ano nulos e a base de dados tem 100000+\n",
    "# registros pode-se remover os registros com anos nulos\n",
    "\n",
    "# Removendo os registros nulos do DataFrame principal\n",
    "df_limpo = df.dropna()\n",
    "\n",
    "# Verificando quantidade de registros nulos em cada campo\n",
    "df_limpo.isnull().sum()"
   ],
   "id": "a1c6efe6d4efb770",
   "outputs": [],
   "execution_count": null
  },
  {
   "metadata": {},
   "cell_type": "code",
   "source": [
    "# Modificando o tipo do campo ano para inteiro\n",
    "df_limpo = df_limpo.assign(ano=df_limpo['ano'].astype('int64'))\n",
    "\n",
    "# Mostrando os tipos dos campos do dataframe\n",
    "df_limpo.dtypes"
   ],
   "id": "fea8e8949d1d6c2",
   "outputs": [],
   "execution_count": null
  },
  {
   "metadata": {},
   "cell_type": "code",
   "source": [
    "# Criando um novo dataframe a partir do salaries_tratado.csv com nenhum campo\n",
    "# com registro nulo\n",
    "\n",
    "df_limpo.to_csv('../data/processed/salarios.csv', index=False)"
   ],
   "id": "3c911d2c1e140c1e",
   "outputs": [],
   "execution_count": null
  },
  {
   "metadata": {},
   "cell_type": "code",
   "source": [
    "# Lendo a nova base de dados\n",
    "data = pd.read_csv('../data/processed/salarios.csv')"
   ],
   "id": "fd97b46ae8468ded",
   "outputs": [],
   "execution_count": null
  },
  {
   "metadata": {},
   "cell_type": "code",
   "source": [
    "# Mostrando alguns registros da nova base de dados\n",
    "data.head()"
   ],
   "id": "595bd6e42799d3f9",
   "outputs": [],
   "execution_count": null
  },
  {
   "metadata": {},
   "cell_type": "code",
   "source": [
    "# Verificando quantidade de registros nulos em cada campo\n",
    "data.isnull().sum()"
   ],
   "id": "4d44b4db9ba47c6a",
   "outputs": [],
   "execution_count": null
  },
  {
   "metadata": {},
   "cell_type": "code",
   "source": [
    "# Verificando o tipo de dado de cada coluna\n",
    "data.dtypes"
   ],
   "id": "8cd53c81b5c1af75",
   "outputs": [],
   "execution_count": null
  }
 ],
 "metadata": {
  "kernelspec": {
   "display_name": "Python 3",
   "language": "python",
   "name": "python3"
  },
  "language_info": {
   "codemirror_mode": {
    "name": "ipython",
    "version": 2
   },
   "file_extension": ".py",
   "mimetype": "text/x-python",
   "name": "python",
   "nbconvert_exporter": "python",
   "pygments_lexer": "ipython2",
   "version": "2.7.6"
  }
 },
 "nbformat": 4,
 "nbformat_minor": 5
}
