{
 "cells": [
  {
   "metadata": {
    "collapsed": true
   },
   "cell_type": "code",
   "source": [
    "# Importação\n",
    "\n",
    "import numpy as np\n",
    "import pandas as pd\n",
    "import matplotlib.pyplot as plt\n",
    "import seaborn as sns"
   ],
   "id": "e09d1c4aeaed28ed",
   "outputs": [],
   "execution_count": null
  },
  {
   "metadata": {},
   "cell_type": "code",
   "source": [
    "# lendo a base de dados\n",
    "\n",
    "df = pd.read_csv('../data/external/salaries.csv')"
   ],
   "id": "37391192cd0ff0da",
   "outputs": [],
   "execution_count": null
  },
  {
   "metadata": {},
   "cell_type": "code",
   "outputs": [],
   "execution_count": null,
   "source": [
    "# Renomeando as colunas da base de dados, convertendo para pt-br\n",
    "\n",
    "colunas_renomeadas = {\n",
    "    'work_year': 'ano',\n",
    "    'experience_level': 'nivel_experiencia',\n",
    "    'employment_type': 'contrato', # Tipo de emprego\n",
    "    'job_title': 'cargo',\n",
    "    'salary': 'salario',\n",
    "    'salary_currency': 'moeda_salario',\n",
    "    'salary_in_usd': 'salario_dolar',\n",
    "    'employee_residence': 'residencia',\n",
    "    'remote_ratio': 'regime_trabalho',\n",
    "    'company_location': 'local_empresa',\n",
    "    'company_size': 'tamanho_empresa'\n",
    "}\n",
    "\n",
    "df.rename(columns=colunas_renomeadas, inplace=True)\n",
    "\n",
    "df.head()"
   ],
   "id": "7608d13aff1d304c"
  },
  {
   "metadata": {},
   "cell_type": "code",
   "outputs": [],
   "execution_count": null,
   "source": [
    "# Calculando a frequência de ocorrência de cada valor único na coluna nivel_experiencia.\n",
    "\n",
    "df['nivel_experiencia'].value_counts()\n",
    "\n",
    "# SE - Senior\n",
    "# MI - Pleno\n",
    "# EN - Júnior\n",
    "# EX - Executivo (C-level)"
   ],
   "id": "239afc775afc8342"
  },
  {
   "metadata": {},
   "cell_type": "code",
   "outputs": [],
   "execution_count": null,
   "source": [
    "# Calculando a frequência de ocorrência de cada valor único na coluna contrato\n",
    "\n",
    "df['contrato'].value_counts()\n",
    "\n",
    "# FT - Integral\n",
    "# CT - Temporário\n",
    "# PT - Parcial (Estágio)\n",
    "# FL - Freelancer"
   ],
   "id": "fe9596e32e5bb56d"
  },
  {
   "metadata": {},
   "cell_type": "code",
   "outputs": [],
   "execution_count": null,
   "source": [
    "# Calculando a frequência de ocorrência de cada valor único na coluna regime_trabalho\n",
    "\n",
    "df['regime_trabalho'].value_counts()\n",
    "\n",
    "# 0   - presencial\n",
    "# 100 - 100% remoto\n",
    "# 50  - híbrido"
   ],
   "id": "b218a798f09320ba"
  },
  {
   "metadata": {},
   "cell_type": "code",
   "outputs": [],
   "execution_count": null,
   "source": [
    "# Calculando a frequência de ocorrência de cada valor único na coluna\n",
    "\n",
    "df['tamanho_empresa'].value_counts()\n",
    "\n",
    "# M (Medium) - Tamanho Médio\n",
    "# L (Large)  - Tamanho Grande\n",
    "# S (Small)  - Tamanho Pequeno"
   ],
   "id": "ecbc9efdc2ab9f84"
  },
  {
   "metadata": {},
   "cell_type": "code",
   "outputs": [],
   "execution_count": null,
   "source": [
    "# Renomeando as categorias da coluna nivel_experiencia\n",
    "\n",
    "experiencia_renomear = {\n",
    "    'SE': 'Senior',\n",
    "    'MI': 'Pleno',\n",
    "    'EN': 'Junior',\n",
    "    'EX': 'Executivo',\n",
    "}\n",
    "\n",
    "df['nivel_experiencia'] = df['nivel_experiencia'].map(experiencia_renomear)\n",
    "\n",
    "df['nivel_experiencia'].value_counts()"
   ],
   "id": "c082d4ca3cb53c10"
  },
  {
   "metadata": {},
   "cell_type": "code",
   "outputs": [],
   "execution_count": null,
   "source": [
    "# Renomeando as categorias da coluna contrato\n",
    "\n",
    "contrato_renomear = {\n",
    "    'FT': 'Integral',\n",
    "    'CT': 'Temporario',\n",
    "    'PT': 'Parcial',\n",
    "    'FL': 'Freelancer',\n",
    "}\n",
    "\n",
    "df['contrato'] = df['contrato'].map(contrato_renomear)\n",
    "\n",
    "df['contrato'].value_counts()"
   ],
   "id": "2e27f82673e4fabf"
  },
  {
   "metadata": {},
   "cell_type": "code",
   "outputs": [],
   "execution_count": null,
   "source": [
    "# Renomeando as categorias da coluna tamanho_empresa\n",
    "\n",
    "tamanho_empresa_renomear = {\n",
    "    'M': 'Médio',\n",
    "    'L': 'Grande',\n",
    "    'S': 'Pequeno',\n",
    "}\n",
    "\n",
    "df['tamanho_empresa'] = df['tamanho_empresa'].map(tamanho_empresa_renomear)\n",
    "\n",
    "df['tamanho_empresa'].value_counts()"
   ],
   "id": "632bcd9bb13fe7bf"
  },
  {
   "metadata": {},
   "cell_type": "code",
   "outputs": [],
   "execution_count": null,
   "source": [
    "# Renomeando as categorias da coluna remoto(%)\n",
    "\n",
    "regime_trabalho_renomear = {\n",
    "    0: 'presencial',\n",
    "    100: 'remoto',\n",
    "    50: 'híbrido',\n",
    "}\n",
    "\n",
    "df['regime_trabalho'] = df['regime_trabalho'].map(regime_trabalho_renomear)\n",
    "\n",
    "df['regime_trabalho'].value_counts()"
   ],
   "id": "5f368ad47c61b834"
  },
  {
   "metadata": {},
   "cell_type": "code",
   "outputs": [],
   "execution_count": null,
   "source": [
    "# Resumo estatístico da base de dados com dados categoricos\n",
    "df.describe(include='object')\n",
    "\n",
    "# top exibe as informações mais frequentes em relação a coluna\n",
    "# freq exibe a quantidade que as informações mais frequentes está repetindo"
   ],
   "id": "51f2708af3ae56e5"
  },
  {
   "metadata": {},
   "cell_type": "code",
   "source": [
    "# Verificando quantidade de registros nulos em cada campo\n",
    "\n",
    "df.isnull().sum()"
   ],
   "id": "468c26fd86019a7",
   "outputs": [],
   "execution_count": null
  },
  {
   "metadata": {},
   "cell_type": "code",
   "source": "df['ano'].unique()",
   "id": "a8f4ae190314d401",
   "outputs": [],
   "execution_count": null
  },
  {
   "metadata": {},
   "cell_type": "code",
   "source": "df[df.isnull().any(axis=1)]",
   "id": "9c73819cc286287",
   "outputs": [],
   "execution_count": null
  },
  {
   "metadata": {},
   "cell_type": "code",
   "source": [
    "# Exemplo Fictício\n",
    "# Criando um novo dataframe com registros nulos e preenchendo com média e mediana\n",
    "\n",
    "# Criando um novo DataFrame\n",
    "df_salario = pd.DataFrame({\n",
    "    'nome': ['Ana', 'Bruno', 'Carlos', 'Diana', 'Eduardo'],\n",
    "    'salario': [4000, np.nan, 3500, np.nan, 5000]\n",
    "})\n",
    "\n",
    "# preenchendo os registros nulos com a média arredondada\n",
    "df_salario['salario_media'] = df_salario['salario'].fillna(df_salario['salario'].mean().round(2))\n",
    "\n",
    "# preenchendo os registros nulos com a mediana\n",
    "df_salario['salario_mediana'] = df_salario['salario'].fillna(df_salario['salario'].median())\n",
    "\n",
    "# Mostrando o DataFrame\n",
    "df_salario"
   ],
   "id": "c506b281ad71d6e1",
   "outputs": [],
   "execution_count": null
  },
  {
   "metadata": {},
   "cell_type": "code",
   "source": [
    "# Exemplo Fictício\n",
    "# Criando um novo dataframe com registros nulos e preenchendo com valor anterior\n",
    "# atraves do forwardfill\n",
    "\n",
    "df_temperaturas = pd.DataFrame({\n",
    "    'dia': ['Seg', 'Ter', 'Qua', 'Qui', 'Sex'],\n",
    "    'temperatura': [30, np.nan, np.nan, 28, 27]\n",
    "})\n",
    "\n",
    "# No caso, preenche os registros nulos com o valor de 'seg'\n",
    "df_temperaturas['preenchido_ffill'] = df_temperaturas['temperatura'].ffill()\n",
    "\n",
    "df_temperaturas"
   ],
   "id": "ce2751cbef3c34ae",
   "outputs": [],
   "execution_count": null
  },
  {
   "metadata": {},
   "cell_type": "code",
   "source": [
    "# Exemplo Fictício\n",
    "# Criando um novo dataframe com registros nulos e preenchendo com valor anterior\n",
    "# atraves do backwardfill\n",
    "\n",
    "df_temperaturas = pd.DataFrame({\n",
    "    'dia': ['Seg', 'Ter', 'Qua', 'Qui', 'Sex'],\n",
    "    'temperatura': [30, np.nan, np.nan, 28, 27]\n",
    "})\n",
    "\n",
    "df_temperaturas['preenchido_bfill'] = df_temperaturas['temperatura'].bfill()\n",
    "\n",
    "df_temperaturas"
   ],
   "id": "de9bdac95d4c7e1d",
   "outputs": [],
   "execution_count": null
  },
  {
   "metadata": {},
   "cell_type": "code",
   "source": [
    "# Exemplo Fictício\n",
    "# Criando um novo dataframe com registros nulos e preenchendo os campos nulos\n",
    "# com valor fixo\n",
    "\n",
    "df_cidades = pd.DataFrame({\n",
    "    'nome': ['Ana', 'Bruno', 'Carlos', 'Diana', 'Eduardo'],\n",
    "    'cidade': ['São Paulo', np.nan, 'Curitiba', np.nan, 'Salvador']\n",
    "})\n",
    "\n",
    "df_cidades['cidade_corrigida'] = df_cidades['cidade'].fillna('Não informado')\n",
    "\n",
    "df_cidades"
   ],
   "id": "278ae3a6fcc90d33",
   "outputs": [],
   "execution_count": null
  },
  {
   "metadata": {},
   "cell_type": "code",
   "source": [
    "# É importante analizar o impacto do tamanho dos registros nulos na base de dados\n",
    "# como são apenas 10 registros com ano nulos e a base de dados tem 100000+\n",
    "# registros pode-se remover os registros com anos nulos\n",
    "\n",
    "# Removendo os registros nulos do DataFrame principal\n",
    "df_limpo = df.dropna()\n",
    "\n",
    "# Verificando quantidade de registros nulos em cada campo\n",
    "df_limpo.isnull().sum()"
   ],
   "id": "a1c6efe6d4efb770",
   "outputs": [],
   "execution_count": null
  },
  {
   "metadata": {},
   "cell_type": "code",
   "source": [
    "# Modificando o tipo do campo ano para inteiro\n",
    "df_limpo = df_limpo.assign(ano=df_limpo['ano'].astype('int64'))\n",
    "\n",
    "# Mostrando os tipos dos campos do dataframe\n",
    "df_limpo.dtypes"
   ],
   "id": "fea8e8949d1d6c2",
   "outputs": [],
   "execution_count": null
  },
  {
   "metadata": {},
   "cell_type": "code",
   "source": [
    "# Criando um novo dataframe a partir do salaries_tratado.csv com nenhum campo\n",
    "# com registro nulo\n",
    "\n",
    "df_limpo.to_csv('../data/processed/salarios.csv', index=False)"
   ],
   "id": "3c911d2c1e140c1e",
   "outputs": [],
   "execution_count": null
  }
 ],
 "metadata": {
  "kernelspec": {
   "display_name": "Python 3",
   "language": "python",
   "name": "python3"
  },
  "language_info": {
   "codemirror_mode": {
    "name": "ipython",
    "version": 2
   },
   "file_extension": ".py",
   "mimetype": "text/x-python",
   "name": "python",
   "nbconvert_exporter": "python",
   "pygments_lexer": "ipython2",
   "version": "2.7.6"
  }
 },
 "nbformat": 4,
 "nbformat_minor": 5
}
